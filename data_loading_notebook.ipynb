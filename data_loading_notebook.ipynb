{
 "cells": [
  {
   "cell_type": "markdown",
   "metadata": {},
   "source": [
    "# Phisionet 2025 Challenge"
   ]
  },
  {
   "cell_type": "markdown",
   "metadata": {},
   "source": [
    "## Imports"
   ]
  },
  {
   "cell_type": "code",
   "execution_count": 111,
   "metadata": {},
   "outputs": [],
   "source": [
    "import pandas as pd\n",
    "import numpy as np\n",
    "import matplotlib.pyplot as plt\n",
    "import os \n",
    "import shutil\n",
    "import importlib\n",
    "import utils\n",
    "importlib.reload(utils)\n",
    "import wfdb\n",
    "import pathlib\n",
    "import pickle\n",
    "from tqdm import tqdm\n",
    "from datetime import datetime\n",
    "import torch\n",
    "import torch.nn.functional as F\n"
   ]
  },
  {
   "cell_type": "markdown",
   "metadata": {},
   "source": []
  },
  {
   "cell_type": "markdown",
   "metadata": {},
   "source": [
    "## Data Loading "
   ]
  },
  {
   "cell_type": "code",
   "execution_count": 109,
   "metadata": {},
   "outputs": [],
   "source": [
    "data_dir_path = \"C:/Users/emanu/OneDrive/Desktop/Physione2025Data\"\n",
    "a = os.listdir(data_dir_path)\n",
    "file_paths = utils.file_path_creation(data_dir_path)\n"
   ]
  },
  {
   "cell_type": "markdown",
   "metadata": {},
   "source": [
    "### CODE_15"
   ]
  },
  {
   "cell_type": "code",
   "execution_count": 112,
   "metadata": {},
   "outputs": [
    {
     "name": "stderr",
     "output_type": "stream",
     "text": [
      "Processing exam parts: 100%|██████████| 2/2 [01:49<00:00, 54.56s/it]\n",
      "c:\\Users\\emanu\\Phisionet 2025 final\\Physionet-2025-final\\utils.py:161: FutureWarning: Downcasting behavior in `replace` is deprecated and will be removed in a future version. To retain the old behavior, explicitly call `result.infer_objects(copy=False)`. To opt-in to the future behavior, set `pd.set_option('future.no_silent_downcasting', True)`\n",
      "  db['Sex'] = db['Sex'].replace({'Male':1,'Female':0})\n",
      "c:\\Users\\emanu\\Phisionet 2025 final\\Physionet-2025-final\\utils.py:162: FutureWarning: Downcasting behavior in `replace` is deprecated and will be removed in a future version. To retain the old behavior, explicitly call `result.infer_objects(copy=False)`. To opt-in to the future behavior, set `pd.set_option('future.no_silent_downcasting', True)`\n",
      "  db['Label'] = db['Label'].replace({'True':1,'False':0})\n"
     ]
    },
    {
     "name": "stdout",
     "output_type": "stream",
     "text": [
      "Saving succesful\n"
     ]
    }
   ],
   "source": [
    "code15_data_path = file_paths[0] + '/code15_output'\n",
    "saving_path = file_paths[0] + '/code15_db'\n",
    "code15_ECG, code15_db = utils.data_creation2(code15_data_path)\n",
    "code15_db = utils.db_preparation(code15_db)\n",
    "utils.saving_data(code15_ECG,code15_db,saving_path)"
   ]
  },
  {
   "cell_type": "markdown",
   "metadata": {},
   "source": [
    "### PTB-XL"
   ]
  },
  {
   "cell_type": "markdown",
   "metadata": {},
   "source": [
    "### SAMI"
   ]
  },
  {
   "cell_type": "code",
   "execution_count": 113,
   "metadata": {},
   "outputs": [
    {
     "name": "stderr",
     "output_type": "stream",
     "text": [
      "Processing exam parts: 100%|██████████| 1/1 [00:02<00:00,  2.28s/it]\n"
     ]
    },
    {
     "name": "stdout",
     "output_type": "stream",
     "text": [
      "Saving succesful\n"
     ]
    }
   ],
   "source": [
    "sami_data_path = file_paths[2] + '/samitrop_output'\n",
    "saving_path = file_paths[2] + '/samtrop_db'\n",
    "samitrop_ECG, samitrop_db =utils.data_creation2(sami_data_path)\n",
    "samitrop_db = utils.db_preparation(samitrop_db)\n",
    "utils.saving_data(samitrop_ECG,samitrop_db,saving_path)"
   ]
  }
 ],
 "metadata": {
  "kernelspec": {
   "display_name": "Python 3",
   "language": "python",
   "name": "python3"
  },
  "language_info": {
   "codemirror_mode": {
    "name": "ipython",
    "version": 3
   },
   "file_extension": ".py",
   "mimetype": "text/x-python",
   "name": "python",
   "nbconvert_exporter": "python",
   "pygments_lexer": "ipython3",
   "version": "3.11.0"
  }
 },
 "nbformat": 4,
 "nbformat_minor": 2
}
